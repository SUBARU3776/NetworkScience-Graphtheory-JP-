{
 "cells": [
  {
   "cell_type": "markdown",
   "id": "4f6d9139",
   "metadata": {},
   "source": [
    "このスクリプトは、指定されたJupyter NotebookファイルからMarkdown形式の見出しを抽出し、索引を自動生成するPythonスクリプトです。`nbformat`ライブラリを使用してノートブックファイルを解析し、見出しのレベルとテキストを抽出して索引を構築します。また、特定のキーワードを指定することで、そのキーワードに基づいた索引を生成することも可能です。"
   ]
  },
  {
   "cell_type": "code",
   "execution_count": null,
   "id": "27011cda",
   "metadata": {
    "collapsed": true
   },
   "outputs": [],
   "source": [
    "import nbformat\n",
    "\n",
    "# 索引生成関数\n",
    "def generate_index(notebook_path, keywords=None):\n",
    "    with open(notebook_path, 'r', encoding='utf-8') as f:\n",
    "        nb = nbformat.read(f, as_version=4)\n",
    "\n",
    "    index = {}\n",
    "    for cell in nb['cells']:\n",
    "        if cell['cell_type'] == 'markdown':\n",
    "            lines = cell['source'].split('\\n')\n",
    "            for line in lines:\n",
    "                if line.startswith('#'):　# \"#\"の含まれる部分を指定し検索に追加\n",
    "                    level = len(line.split(' ')[0])\n",
    "                    heading = line.strip('#').strip()\n",
    "                    if heading not in index:\n",
    "                        index[heading] = []\n",
    "                    index[heading].append(f\"Level {level}\")\n",
    "\n",
    "                if keywords: # 検索対象のワードをリストとして指定し検索に追加\n",
    "                    for keyword in keywords:\n",
    "                        if keyword in line:\n",
    "                            if keyword not in index:\n",
    "                                index[keyword] = []\n",
    "                            index[keyword].append(line.strip())\n",
    "\n",
    "    return index\n",
    "\n",
    "# Jupyter Notebookファイルへの正しいパスを指定\n",
    "notebook_path = 'path/to/your/notebook.ipynb'\n",
    "keywords = ['特定のキーワード1', '特定のキーワード2']  # 索引を生成したいキーワードを指定\n",
    "index = generate_index(notebook_path, keywords)  # 索引を生成\n",
    "print(index)\n"
   ]
  }
 ],
 "metadata": {
  "kernelspec": {
   "display_name": "Python 3 (ipykernel)",
   "language": "python",
   "name": "python3"
  },
  "language_info": {
   "codemirror_mode": {
    "name": "ipython",
    "version": 3
   },
   "file_extension": ".py",
   "mimetype": "text/x-python",
   "name": "python",
   "nbconvert_exporter": "python",
   "pygments_lexer": "ipython3",
   "version": "3.11.4"
  }
 },
 "nbformat": 4,
 "nbformat_minor": 5
}
